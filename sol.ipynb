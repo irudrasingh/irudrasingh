{
  "cells": [
    {
      "cell_type": "markdown",
      "metadata": {
        "id": "view-in-github",
        "colab_type": "text"
      },
      "source": [
        "<a href=\"https://colab.research.google.com/github/irudrasingh/irudrasingh/blob/main/sol.ipynb\" target=\"_parent\"><img src=\"https://colab.research.google.com/assets/colab-badge.svg\" alt=\"Open In Colab\"/></a>"
      ]
    },
    {
      "cell_type": "code",
      "execution_count": 1,
      "id": "2971c213",
      "metadata": {
        "id": "2971c213"
      },
      "outputs": [],
      "source": [
        "import pandas as pd\n",
        "import numpy as np\n",
        "import os\n"
      ]
    },
    {
      "cell_type": "code",
      "execution_count": 2,
      "id": "d40dc2f4",
      "metadata": {
        "id": "d40dc2f4"
      },
      "outputs": [],
      "source": [
        "df = pd.read_csv(\"dataset.csv\")\n",
        "#Import the dataset"
      ]
    },
    {
      "cell_type": "code",
      "execution_count": null,
      "id": "1f96cf46",
      "metadata": {
        "id": "1f96cf46"
      },
      "outputs": [],
      "source": [
        "df.head()"
      ]
    },
    {
      "cell_type": "code",
      "execution_count": null,
      "id": "383a2a21",
      "metadata": {
        "id": "383a2a21"
      },
      "outputs": [],
      "source": [
        "\"\"\"Write a lambda function that will, given a string, split on space, convert the string to\n",
        "lowercase, and select only the first element in the resultant list\n",
        "Apply the lambda function to the ‘name’ column, and save the result\"\"\"\n",
        "res = df['name'].apply(lambda x: x.split(' '))\n",
        "\n",
        "\"\"\"Access the dataframe text using a new column name (FName), and assign the result\n",
        "from the above step\"\"\"\n",
        "\n",
        "df['Fname']=res.apply(lambda x:x[0].lower())\n",
        "df\n"
      ]
    },
    {
      "cell_type": "code",
      "execution_count": null,
      "id": "41631747",
      "metadata": {
        "id": "41631747"
      },
      "outputs": [],
      "source": [
        "result = df.groupby(['gender', 'specialisation'])\n",
        "result.first()"
      ]
    },
    {
      "cell_type": "code",
      "execution_count": null,
      "id": "fe7acb9f",
      "metadata": {
        "id": "fe7acb9f"
      },
      "outputs": [],
      "source": [
        "\"\"\"Next, group the dataset by ‘Gender’ and ‘specialization’ columns and convert the rest of the\n",
        "columns of the dataframe into a dictionary such that the column header is the key of the\n",
        "dictionary.\"\"\"\n",
        "df1=df[['degree_p','degree_t','status','name','Fname']]\n",
        "df1.to_dict('dict')"
      ]
    },
    {
      "cell_type": "code",
      "execution_count": null,
      "id": "1e842cc1",
      "metadata": {
        "id": "1e842cc1"
      },
      "outputs": [],
      "source": [
        "\"\"\"Display the median of the degree percentages (degree_p column) according to the gender,\n",
        "degree_t, and specialisation. (Use GROUPBY)\"\"\"\n",
        "df.groupby(['gender','degree_t','specialisation']).median()['degree_p']"
      ]
    }
  ],
  "metadata": {
    "kernelspec": {
      "display_name": "Python 3",
      "language": "python",
      "name": "python3"
    },
    "language_info": {
      "codemirror_mode": {
        "name": "ipython",
        "version": 3
      },
      "file_extension": ".py",
      "mimetype": "text/x-python",
      "name": "python",
      "nbconvert_exporter": "python",
      "pygments_lexer": "ipython3",
      "version": "3.8.8"
    },
    "colab": {
      "name": "Rudra.ipynb",
      "provenance": [],
      "collapsed_sections": [],
      "include_colab_link": true
    }
  },
  "nbformat": 4,
  "nbformat_minor": 5
}